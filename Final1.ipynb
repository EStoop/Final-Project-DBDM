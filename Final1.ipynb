{
 "cells": [
  {
   "cell_type": "code",
   "execution_count": 70,
   "metadata": {},
   "outputs": [],
   "source": [
    "import numpy as np\n",
    "import pandas as pd\n",
    "from astropy.io import fits\n",
    "import glob\n",
    "from collections import defaultdict\n",
    "import sqlite3 as lite"
   ]
  },
  {
   "cell_type": "code",
   "execution_count": 4,
   "metadata": {},
   "outputs": [
    {
     "data": {
      "text/plain": [
       "'\\nfield_info = pd.read_csv(root + \\'file_info_for_problem.csv\\')\\nfield_info.insert(column=\"StarID\", loc=4, value = 0)\\nprint field_info\\n'"
      ]
     },
     "execution_count": 4,
     "metadata": {},
     "output_type": "execute_result"
    }
   ],
   "source": [
    "# Read in the field information\n",
    "root = \"/home/esmee/Documents/DBDM/DDM2017-master/FinalProject/\" #\"/disks/strw9/stoop/DBDM/DDM2017-master/FinalProject/Q1/Tables/\"\n",
    "\"\"\"\n",
    "field_info = pd.read_csv(root + 'file_info_for_problem.csv')\n",
    "field_info.insert(column=\"StarID\", loc=4, value = 0)\n",
    "print field_info\n",
    "\"\"\""
   ]
  },
  {
   "cell_type": "code",
   "execution_count": 5,
   "metadata": {},
   "outputs": [
    {
     "name": "stdout",
     "output_type": "stream",
     "text": [
      "Table is 30000 x 88\n"
     ]
    }
   ],
   "source": [
    "# Read in the different fits files\n",
    "fnames = glob.glob(root + '*.fits')\n",
    "\n",
    "#Find the number of unique stars\n",
    "starIDs = []\n",
    "for i, f in enumerate(fnames):\n",
    "    hdu = fits.open(f)\n",
    "    starIDs.append([dat for dat in hdu[1].data['StarID']])\n",
    "\n",
    "nstars = len(np.unique(starIDs))\n",
    "starCols = np.array(['ID', 'StarID', 'Ra', 'Dec', 'Flux1_Z', 'Flux1_Y', 'Flux1_J', 'Flux1_H', 'Flux1_Ks-E001',\n",
    "       'Flux1_Ks-E002', 'Flux1_Ks-E003', 'Flux2_Z', 'Flux2_Y', 'Flux2_J',\n",
    "       'Flux2_H', 'Flux2_Ks-E001', 'Flux2_Ks-E002', 'Flux2_Ks-E003',\n",
    "       'Flux3_Z', 'Flux3_Y', 'Flux3_J', 'Flux3_H', 'Flux3_Ks-E001',\n",
    "       'Flux3_Ks-E002', 'Flux3_Ks-E003', 'dFlux1_Z', 'dFlux1_Y',\n",
    "       'dFlux1_J', 'dFlux1_H', 'dFlux1_Ks-E001', 'dFlux1_Ks-E002',\n",
    "       'dFlux1_Ks-E003', 'dFlux2_Z', 'dFlux2_Y', 'dFlux2_J', 'dFlux2_H',\n",
    "       'dFlux2_Ks-E001', 'dFlux2_Ks-E002', 'dFlux2_Ks-E003', 'dFlux3_Z',\n",
    "       'dFlux3_Y', 'dFlux3_J', 'dFlux3_H', 'dFlux3_Ks-E001',\n",
    "       'dFlux3_Ks-E002', 'dFlux3_Ks-E003', 'Mag1_Z', 'Mag1_Y', 'Mag1_J',\n",
    "       'Mag1_H', 'Mag1_Ks-E001', 'Mag1_Ks-E002', 'Mag1_Ks-E003', 'Mag2_Z',\n",
    "       'Mag2_Y', 'Mag2_J', 'Mag2_H', 'Mag2_Ks-E001', 'Mag2_Ks-E002',\n",
    "       'Mag2_Ks-E003', 'Mag3_Z', 'Mag3_Y', 'Mag3_J', 'Mag3_H',\n",
    "       'Mag3_Ks-E001', 'Mag3_Ks-E002', 'Mag3_Ks-E003', 'dMag1_Z',\n",
    "       'dMag1_Y', 'dMag1_J', 'dMag1_H', 'dMag1_Ks-E001', 'dMag1_Ks-E002',\n",
    "       'dMag1_Ks-E003', 'dMag2_Z', 'dMag2_Y', 'dMag2_J', 'dMag2_H',\n",
    "       'dMag2_Ks-E001', 'dMag2_Ks-E002', 'dMag2_Ks-E003', 'dMag3_Z',\n",
    "       'dMag3_Y', 'dMag3_J', 'dMag3_H', 'dMag3_Ks-E001', 'dMag3_Ks-E002',\n",
    "       'dMag3_Ks-E003']) \n",
    "\n",
    "fmcols = ['Flux', 'dFlux', 'Mag', 'dMag']\n",
    "uniq_IDs = np.unique(starIDs)\n",
    "nstars = len(np.unique(starIDs))\n",
    "ncols = 5 + 83\n",
    "print \"Table is {0} x {1}\".format(nstars, ncols)\n",
    "stable = np.zeros((nstars, ncols))\n",
    "starTable = pd.DataFrame(data=stable, columns=starCols)"
   ]
  },
  {
   "cell_type": "code",
   "execution_count": 10,
   "metadata": {},
   "outputs": [
    {
     "data": {
      "text/plain": [
       "14"
      ]
     },
     "execution_count": 10,
     "metadata": {},
     "output_type": "execute_result"
    }
   ],
   "source": [
    "len(fnames[0].replace(root, ''))"
   ]
  },
  {
   "cell_type": "markdown",
   "metadata": {},
   "source": [
    "\n",
    "# The database tables\n",
    "\n",
    "**FieldTable**\n",
    "\n",
    "ID | FieldID | Filename | Filter | Exp time | MJD | StarIDs |\n",
    "\n",
    "\n",
    "**StarTable**\n",
    "\n",
    "ID  | StarID  | Ra  | Dec  | Flux1_Z  | dFlux1_Z  | ..  | Flux3_Ks  | dFlux3_Ks  | Mag1_Z  | dMag1_Z  | ..  | Mag3_Ks  | dMag3_Ks  | Var_Ks |  \n",
    "\n"
   ]
  },
  {
   "cell_type": "code",
   "execution_count": 6,
   "metadata": {},
   "outputs": [
    {
     "data": {
      "text/plain": [
       "'\\nIDs_seen = []\\nfmcols = [\\'Flux\\', \\'dFlux\\', \\'Mag\\', \\'dMag\\']\\n\\nfor f in fnames:\\n    print \"Started with file {0}\".format(f.replace(root, \\'\\'))\\n    \\n    hdu = fits.open(f)\\n    f = f.replace(root, \\'\\')\\n    sID = hdu[1].data[\\'StarID\\']\\n    ind = [np.where(uniq_IDs == i)[0][0] for i in sID]\\n    filt = f[8:-5]\\n    \\n    #Send star IDs to the field_info\\n    fID = f[6] #field\\n    if \\'Ks\\' in filt:\\n        filt2 = \\'Ks\\'\\n        name = np.sort(np.array(field_info[\"Filename\"][(field_info[\"FieldID\"] == int(fID)) & (field_info[\"Filter\"] == filt2)]))\\n        name = name[int(filt[-1])-1]\\n    else:\\n        name = np.sort(np.array(field_info[\"Filename\"][(field_info[\"FieldID\"] == int(fID)) & (field_info[\"Filter\"] == filt)]))\\n        name = name[0]\\n    field_info[\"StarID\"][np.where(field_info[\"Filename\"] == name)[0][0]] = np.array_str(sID)\\n    \\n    seen = [ID in IDs_seen for ID in sID]\\n\\n    # Is iD star already seen?\\n    if not seen[0]:\\n        starTable[\\'ID\\'][ind] = ind\\n        # Input the StarID, Ra and Dec\\n        for c in starCols[1:4]:\\n            starTable[c][ind] = hdu[1].data[c]\\n\\n        [IDs_seen.append(ID) for ID in sID]\\n        \\n        # Input the flux and magnitude of this data\\n        for fm in fmcols:\\n            for t in range(1, 4):\\n                starTable[fm + str(t) +\\'_\\' + filt][ind] = hdu[1].data[fm + str(t)]\\n\\n    # Go through all other flux, mag and filters\\n    else:\\n        for fm in fmcols:\\n            for t in range(1, 4):\\n                starTable[fm + str(t) +\\'_\\' + filt][ind] = hdu[1].data[fm + str(t)]\\n    \\n\\n    print \"Finished\"\\n'"
      ]
     },
     "execution_count": 6,
     "metadata": {},
     "output_type": "execute_result"
    }
   ],
   "source": [
    "\"\"\"\n",
    "IDs_seen = []\n",
    "fmcols = ['Flux', 'dFlux', 'Mag', 'dMag']\n",
    "\n",
    "for f in fnames:\n",
    "    print \"Started with file {0}\".format(f.replace(root, ''))\n",
    "    \n",
    "    hdu = fits.open(f)\n",
    "    f = f.replace(root, '')\n",
    "    sID = hdu[1].data['StarID']\n",
    "    ind = [np.where(uniq_IDs == i)[0][0] for i in sID]\n",
    "    filt = f[8:-5]\n",
    "    \n",
    "    #Send star IDs to the field_info\n",
    "    fID = f[6] #field\n",
    "    if 'Ks' in filt:\n",
    "        filt2 = 'Ks'\n",
    "        name = np.sort(np.array(field_info[\"Filename\"][(field_info[\"FieldID\"] == int(fID)) & (field_info[\"Filter\"] == filt2)]))\n",
    "        name = name[int(filt[-1])-1]\n",
    "    else:\n",
    "        name = np.sort(np.array(field_info[\"Filename\"][(field_info[\"FieldID\"] == int(fID)) & (field_info[\"Filter\"] == filt)]))\n",
    "        name = name[0]\n",
    "    field_info[\"StarID\"][np.where(field_info[\"Filename\"] == name)[0][0]] = np.array_str(sID)\n",
    "    \n",
    "    seen = [ID in IDs_seen for ID in sID]\n",
    "\n",
    "    # Is iD star already seen?\n",
    "    if not seen[0]:\n",
    "        starTable['ID'][ind] = ind\n",
    "        # Input the StarID, Ra and Dec\n",
    "        for c in starCols[1:4]:\n",
    "            starTable[c][ind] = hdu[1].data[c]\n",
    "\n",
    "        [IDs_seen.append(ID) for ID in sID]\n",
    "        \n",
    "        # Input the flux and magnitude of this data\n",
    "        for fm in fmcols:\n",
    "            for t in range(1, 4):\n",
    "                starTable[fm + str(t) +'_' + filt][ind] = hdu[1].data[fm + str(t)]\n",
    "\n",
    "    # Go through all other flux, mag and filters\n",
    "    else:\n",
    "        for fm in fmcols:\n",
    "            for t in range(1, 4):\n",
    "                starTable[fm + str(t) +'_' + filt][ind] = hdu[1].data[fm + str(t)]\n",
    "    \n",
    "\n",
    "    print \"Finished\"\n",
    "\n",
    "# write tables to csv\n",
    "starTable.to_csv(root+'starTable.csv')\n",
    "field_info.to_csv(root+'fieldTable.csv')\n",
    "\"\"\""
   ]
  },
  {
   "cell_type": "code",
   "execution_count": 76,
   "metadata": {},
   "outputs": [],
   "source": [
    "# Read the Tables\n",
    "FieldTable = pd.read_csv(root+ \"fieldTable.csv\")\n",
    "StarTable = pd.read_csv(root+ \"starTable.csv\")\n",
    "\n",
    "FieldTable.drop('Unnamed: 0', axis=1, inplace=True)\n",
    "StarTable.drop('Unnamed: 0', axis=1, inplace=True)"
   ]
  },
  {
   "cell_type": "code",
   "execution_count": 77,
   "metadata": {},
   "outputs": [],
   "source": [
    "# Make the database\n",
    "con = lite.connect(root+\"VVV.db\")\n",
    "StarTable.to_sql('StarTable', con, if_exists = 'replace')\n",
    "FieldTable.to_sql('FieldTable', con, if_exists = 'replace')"
   ]
  },
  {
   "cell_type": "markdown",
   "metadata": {},
   "source": [
    "# The Queries\n",
    "\n",
    "**R1:** Find all images observed between MJD = 56800 and MJD = 57300 and give me the number of stars detected with S/N > 5 in each image.\n",
    "\n",
    "**R2:** Find the objects that have J-H > 1.5\n",
    "\n",
    "**R3:** Find the objects where Ks differs by more than 20 times the flux uncertainty from the mean flux.\n",
    "\n",
    "**R4:** Find all catalogues that exist for a given field.\n",
    "\n",
    "**R5:** For a given field I would like to retrieve the Y,Z,J,H and Ks magnitudes for all stars with S/N > 30 in Y, Z, J, H and Ks. \n",
    "\n",
    "\n"
   ]
  },
  {
   "cell_type": "code",
   "execution_count": 87,
   "metadata": {},
   "outputs": [
    {
     "data": {
      "text/plain": [
       "\"for i, stars in enumerate(t_images['StarID']):\\n    # Need filter to get the right fluxes\\n    filt = t_images['Filter'][i]\\n    \\n    #Get the first and last starID\""
      ]
     },
     "execution_count": 87,
     "metadata": {},
     "output_type": "execute_result"
    }
   ],
   "source": [
    "# R1\n",
    "con = lite.connect(root+'VVV.db')\n",
    "R1command = \"SELECT MJD, StarID, Filter FROM FieldTable \\\n",
    "            WHERE MJD BETWEEN 56800 AND 57300\"\n",
    "t_images = pd.read_sql(R1command, con)\n",
    "\n",
    "\"\"\"for i, stars in enumerate(t_images['StarID']):\n",
    "    # Need filter to get the right fluxes\n",
    "    filt = t_images['Filter'][i]\n",
    "    \n",
    "    #Get the first and last starID\"\"\"\n",
    "\n",
    "    \n",
    "    "
   ]
  },
  {
   "cell_type": "code",
   "execution_count": 104,
   "metadata": {},
   "outputs": [
    {
     "data": {
      "text/plain": [
       "[u'  0', u'1', u'2 ..., 9997 9998 9999']"
      ]
     },
     "execution_count": 104,
     "metadata": {},
     "output_type": "execute_result"
    }
   ],
   "source": [
    "# not right yet\n",
    "t_images['StarID'][0][2:-1].split('    ')"
   ]
  },
  {
   "cell_type": "code",
   "execution_count": null,
   "metadata": {
    "collapsed": true
   },
   "outputs": [],
   "source": []
  }
 ],
 "metadata": {
  "kernelspec": {
   "display_name": "Python 2",
   "language": "python",
   "name": "python2"
  },
  "language_info": {
   "codemirror_mode": {
    "name": "ipython",
    "version": 2
   },
   "file_extension": ".py",
   "mimetype": "text/x-python",
   "name": "python",
   "nbconvert_exporter": "python",
   "pygments_lexer": "ipython2",
   "version": "2.7.12"
  }
 },
 "nbformat": 4,
 "nbformat_minor": 2
}
