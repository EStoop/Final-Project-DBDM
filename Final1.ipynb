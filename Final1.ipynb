{
 "cells": [
  {
   "cell_type": "code",
   "execution_count": 2,
   "metadata": {},
   "outputs": [],
   "source": [
    "import numpy as np\n",
    "import pandas as pd\n",
    "from astropy.io import fits\n",
    "import glob\n",
    "from collections import defaultdict"
   ]
  },
  {
   "cell_type": "code",
   "execution_count": 107,
   "metadata": {},
   "outputs": [
    {
     "name": "stdout",
     "output_type": "stream",
     "text": [
      "    ID  FieldID                              Filename Filter  StarID  \\\n",
      "0    1        1    Z-ADP.2017-01-18T11:58:36.905.fits      Z       0   \n",
      "1    2        1    J-ADP.2017-01-18T11:58:35.781.fits      J       0   \n",
      "2    3        1    H-ADP.2017-01-18T11:58:35.780.fits      H       0   \n",
      "3    4        1   Ks-ADP.2016-05-25T15:33:39.546.fits     Ks       0   \n",
      "4    5        1   Ks-ADP.2017-01-18T11:58:39.907.fits     Ks       0   \n",
      "5    6        1   Ks-ADP.2016-05-25T15:33:43.377.fits     Ks       0   \n",
      "6    7        1    Y-ADP.2017-01-18T11:58:36.901.fits      Y       0   \n",
      "7    8        2   Z-ADP.2017-01-18T11:58:36.905b.fits      Z       0   \n",
      "8    9        2   J-ADP.2017-01-18T11:58:35.781b.fits      J       0   \n",
      "9   10        2   H-ADP.2017-01-18T11:58:35.780b.fits      H       0   \n",
      "10  11        2  Ks-ADP.2016-05-25T15:33:39.546b.fits     Ks       0   \n",
      "11  12        2   Y-ADP.2017-01-18T11:58:36.901b.fits      Y       0   \n",
      "12  13        3   Z-ADP.2017-01-18T11:58:36.905c.fits      Z       0   \n",
      "13  14        3   J-ADP.2017-01-18T11:58:35.781c.fits      J       0   \n",
      "14  15        3   H-ADP.2017-01-18T11:58:35.780c.fits      H       0   \n",
      "15  16        3  Ks-ADP.2016-05-25T15:33:39.546c.fits     Ks       0   \n",
      "16  17        3  Ks-ADP.2017-01-18T11:58:39.907c.fits     Ks       0   \n",
      "17  18        3   Y-ADP.2017-01-18T11:58:36.901c.fits      Y       0   \n",
      "\n",
      "             MJD  Airmass  Exptime  \n",
      "0   57267.167107   1.6405     40.0  \n",
      "1   57257.050432   1.0105     48.0  \n",
      "2   57257.044108   1.0060     16.0  \n",
      "3   56788.346937   1.0230     16.0  \n",
      "4   56561.002016   1.0790     16.0  \n",
      "5   56829.039051   1.6085     16.0  \n",
      "6   57267.159665   1.5605     40.0  \n",
      "7   57268.167107   1.6405     40.0  \n",
      "8   57258.050432   1.0105     48.0  \n",
      "9   57258.044108   1.0060     16.0  \n",
      "10  56789.346937   1.0230     16.0  \n",
      "11  57268.159665   1.5605     40.0  \n",
      "12  57268.167107   1.6405     40.0  \n",
      "13  57258.050432   1.0105     48.0  \n",
      "14  57258.044108   1.0060     16.0  \n",
      "15  56789.346937   1.0230     16.0  \n",
      "16  56562.002016   1.0790     16.0  \n",
      "17  57268.159665   1.5605     40.0  \n"
     ]
    }
   ],
   "source": [
    "# Read in the field information\n",
    "\n",
    "root = \"/home/esmee/Documents/DBDM/DDM2017-master/FinalProject/\" #\"/disks/strw9/stoop/DBDM/DDM2017-master/FinalProject/Q1/Tables/\"\n",
    "field_info = pd.read_csv(root + 'file_info_for_problem.csv')\n",
    "field_info.insert(column=\"StarID\", loc=4, value = 0)\n",
    "print field_info"
   ]
  },
  {
   "cell_type": "code",
   "execution_count": 108,
   "metadata": {},
   "outputs": [
    {
     "name": "stdout",
     "output_type": "stream",
     "text": [
      "Table is 30000 x 88\n"
     ]
    }
   ],
   "source": [
    "# Read in the different fits files\n",
    "fnames = glob.glob(root + '*.fits')\n",
    "\n",
    "#Find the number of unique stars\n",
    "starIDs = []\n",
    "for i, f in enumerate(fnames):\n",
    "    hdu = fits.open(f)\n",
    "    starIDs.append([dat for dat in hdu[1].data['StarID']])\n",
    "\n",
    "nstars = len(np.unique(starIDs))\n",
    "starCols = np.array(['ID', 'StarID', 'Ra', 'Dec', 'Flux1_Z', 'Flux1_Y', 'Flux1_J', 'Flux1_H', 'Flux1_Ks-E001',\n",
    "       'Flux1_Ks-E002', 'Flux1_Ks-E003', 'Flux2_Z', 'Flux2_Y', 'Flux2_J',\n",
    "       'Flux2_H', 'Flux2_Ks-E001', 'Flux2_Ks-E002', 'Flux2_Ks-E003',\n",
    "       'Flux3_Z', 'Flux3_Y', 'Flux3_J', 'Flux3_H', 'Flux3_Ks-E001',\n",
    "       'Flux3_Ks-E002', 'Flux3_Ks-E003', 'dFlux1_Z', 'dFlux1_Y',\n",
    "       'dFlux1_J', 'dFlux1_H', 'dFlux1_Ks-E001', 'dFlux1_Ks-E002',\n",
    "       'dFlux1_Ks-E003', 'dFlux2_Z', 'dFlux2_Y', 'dFlux2_J', 'dFlux2_H',\n",
    "       'dFlux2_Ks-E001', 'dFlux2_Ks-E002', 'dFlux2_Ks-E003', 'dFlux3_Z',\n",
    "       'dFlux3_Y', 'dFlux3_J', 'dFlux3_H', 'dFlux3_Ks-E001',\n",
    "       'dFlux3_Ks-E002', 'dFlux3_Ks-E003', 'Mag1_Z', 'Mag1_Y', 'Mag1_J',\n",
    "       'Mag1_H', 'Mag1_Ks-E001', 'Mag1_Ks-E002', 'Mag1_Ks-E003', 'Mag2_Z',\n",
    "       'Mag2_Y', 'Mag2_J', 'Mag2_H', 'Mag2_Ks-E001', 'Mag2_Ks-E002',\n",
    "       'Mag2_Ks-E003', 'Mag3_Z', 'Mag3_Y', 'Mag3_J', 'Mag3_H',\n",
    "       'Mag3_Ks-E001', 'Mag3_Ks-E002', 'Mag3_Ks-E003', 'dMag1_Z',\n",
    "       'dMag1_Y', 'dMag1_J', 'dMag1_H', 'dMag1_Ks-E001', 'dMag1_Ks-E002',\n",
    "       'dMag1_Ks-E003', 'dMag2_Z', 'dMag2_Y', 'dMag2_J', 'dMag2_H',\n",
    "       'dMag2_Ks-E001', 'dMag2_Ks-E002', 'dMag2_Ks-E003', 'dMag3_Z',\n",
    "       'dMag3_Y', 'dMag3_J', 'dMag3_H', 'dMag3_Ks-E001', 'dMag3_Ks-E002',\n",
    "       'dMag3_Ks-E003']) \n",
    "\n",
    "fmcols = ['Flux', 'dFlux', 'Mag', 'dMag']\n",
    "uniq_IDs = np.unique(starIDs)\n",
    "nstars = len(np.unique(starIDs))\n",
    "ncols = 5 + 83\n",
    "print \"Table is {0} x {1}\".format(nstars, ncols)\n",
    "stable = np.zeros((nstars, ncols))\n",
    "starTable = pd.DataFrame(data=stable, columns=starCols)"
   ]
  },
  {
   "cell_type": "code",
   "execution_count": null,
   "metadata": {},
   "outputs": [],
   "source": []
  },
  {
   "cell_type": "markdown",
   "metadata": {},
   "source": [
    "\n",
    "# The database tables\n",
    "\n",
    "**FieldTable**\n",
    "\n",
    "ID | FieldID | Filename | Filter | Exp time | MJD | StarIDs |\n",
    "\n",
    "\n",
    "**StarTable**\n",
    "\n",
    "ID  | StarID  | Ra  | Dec  | Flux1_Z  | dFlux1_Z  | ..  | Flux3_Ks  | dFlux3_Ks  | Mag1_Z  | dMag1_Z  | ..  | Mag3_Ks  | dMag3_Ks  | Var_Ks |  \n",
    "\n"
   ]
  },
  {
   "cell_type": "code",
   "execution_count": 128,
   "metadata": {},
   "outputs": [
    {
     "name": "stdout",
     "output_type": "stream",
     "text": [
      "Started with file Field-1-Z.fits\n"
     ]
    },
    {
     "name": "stderr",
     "output_type": "stream",
     "text": [
      "/usr/local/lib/python2.7/dist-packages/ipykernel_launcher.py:22: SettingWithCopyWarning: \n",
      "A value is trying to be set on a copy of a slice from a DataFrame\n",
      "\n",
      "See the caveats in the documentation: http://pandas.pydata.org/pandas-docs/stable/indexing.html#indexing-view-versus-copy\n"
     ]
    },
    {
     "name": "stdout",
     "output_type": "stream",
     "text": [
      "Started with file Field-1-Y.fits\n",
      "Started with file Field-3-Z.fits\n",
      "Started with file Field-3-H.fits\n",
      "Started with file Field-3-Y.fits\n",
      "Started with file Field-1-H.fits\n",
      "Started with file Field-1-Ks-E003.fits\n",
      "Started with file Field-1-Ks-E001.fits\n",
      "Started with file Field-3-J.fits\n",
      "Started with file Field-2-Ks-E001.fits\n",
      "Started with file Field-2-Z.fits\n",
      "Started with file Field-2-J.fits\n",
      "Started with file Field-3-Ks-E001.fits\n",
      "Started with file Field-2-H.fits\n",
      "Started with file Field-2-Y.fits\n",
      "Started with file Field-1-J.fits\n",
      "Started with file Field-3-Ks-E002.fits\n",
      "Started with file Field-1-Ks-E002.fits\n",
      "Finished\n"
     ]
    }
   ],
   "source": [
    "IDs_seen = []\n",
    "fmcols = ['Flux', 'dFlux', 'Mag', 'dMag']\n",
    "\n",
    "for f in fnames:\n",
    "    print \"Started with file {0}\".format(f.replace(root, ''))\n",
    "    \n",
    "    hdu = fits.open(f)\n",
    "    f = f.replace(root, '')\n",
    "    sID = hdu[1].data['StarID']\n",
    "    ind = [np.where(uniq_IDs == i)[0][0] for i in sID]\n",
    "    filt = f[8:-5]\n",
    "    \n",
    "    #Send star IDs to the field_info\n",
    "    fID = f[6] #field\n",
    "    if 'Ks' in filt:\n",
    "        filt2 = 'Ks'\n",
    "        name = np.sort(np.array(field_info[\"Filename\"][(field_info[\"FieldID\"] == int(fID)) & (field_info[\"Filter\"] == filt2)]))\n",
    "        name = name[int(filt[-1])-1]\n",
    "    else:\n",
    "        name = np.sort(np.array(field_info[\"Filename\"][(field_info[\"FieldID\"] == int(fID)) & (field_info[\"Filter\"] == filt)]))\n",
    "        name = name[0]\n",
    "    field_info[\"StarID\"][np.where(field_info[\"Filename\"] == name)[0][0]] = np.array_str(sID)\n",
    "    \n",
    "    seen = [ID in IDs_seen for ID in sID]\n",
    "\n",
    "    # Is iD star already seen?\n",
    "    if not seen[0]:\n",
    "        starTable['ID'][ind] = ind\n",
    "        # Input the StarID, Ra and Dec\n",
    "        for c in starCols[1:4]:\n",
    "            starTable[c][ind] = hdu[1].data[c]\n",
    "\n",
    "        [IDs_seen.append(ID) for ID in sID]\n",
    "        \n",
    "        # Input the flux and magnitude of this data\n",
    "        for fm in fmcols:\n",
    "            for t in range(1, 4):\n",
    "                starTable[fm + str(t) +'_' + filt][ind] = hdu[1].data[fm + str(t)]\n",
    "\n",
    "    # Go through all other flux, mag and filters\n",
    "    else:\n",
    "        for fm in fmcols:\n",
    "            for t in range(1, 4):\n",
    "                starTable[fm + str(t) +'_' + filt][ind] = hdu[1].data[fm + str(t)]\n",
    "    \n",
    "\n",
    "    print \"Finished\""
   ]
  },
  {
   "cell_type": "code",
   "execution_count": 131,
   "metadata": {},
   "outputs": [],
   "source": [
    "# write tables to csv\n",
    "starTable.to_csv(root+'starTable.csv')\n",
    "field_info.to_csv(root+'fieldTable.csv')"
   ]
  },
  {
   "cell_type": "code",
   "execution_count": null,
   "metadata": {},
   "outputs": [],
   "source": []
  },
  {
   "cell_type": "code",
   "execution_count": null,
   "metadata": {},
   "outputs": [],
   "source": []
  },
  {
   "cell_type": "code",
   "execution_count": null,
   "metadata": {},
   "outputs": [],
   "source": []
  },
  {
   "cell_type": "code",
   "execution_count": null,
   "metadata": {},
   "outputs": [],
   "source": []
  },
  {
   "cell_type": "code",
   "execution_count": null,
   "metadata": {},
   "outputs": [],
   "source": []
  },
  {
   "cell_type": "code",
   "execution_count": null,
   "metadata": {
    "collapsed": true
   },
   "outputs": [],
   "source": []
  }
 ],
 "metadata": {
  "kernelspec": {
   "display_name": "Python 2",
   "language": "python",
   "name": "python2"
  },
  "language_info": {
   "codemirror_mode": {
    "name": "ipython",
    "version": 2
   },
   "file_extension": ".py",
   "mimetype": "text/x-python",
   "name": "python",
   "nbconvert_exporter": "python",
   "pygments_lexer": "ipython2",
   "version": "2.7.12"
  }
 },
 "nbformat": 4,
 "nbformat_minor": 2
}
