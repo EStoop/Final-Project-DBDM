{
 "cells": [
  {
   "cell_type": "code",
   "execution_count": 2,
   "metadata": {
    "collapsed": true
   },
   "outputs": [],
   "source": [
    "import numpy as np\n",
    "import pandas as pd\n",
    "from astropy.io import fits\n",
    "import glob\n",
    "from collections import defaultdict\n",
    "import sqlite3 as lite\n",
    "\n",
    "# Read in the field information\n",
    "#root = \"/home/esmee/Documents/DBDM/DDM2017-master/FinalProject/\" \n",
    "root = \"/disks/strw9/stoop/DBDM/DDM2017-master/FinalProject/Final-Project-DBDM/\""
   ]
  },
  {
   "cell_type": "code",
   "execution_count": 170,
   "metadata": {
    "collapsed": false
   },
   "outputs": [
    {
     "name": "stderr",
     "output_type": "stream",
     "text": [
      "/software/local/lib64/python2.7/site-packages/ipykernel/__main__.py:17: SettingWithCopyWarning: \n",
      "A value is trying to be set on a copy of a slice from a DataFrame\n",
      "\n",
      "See the caveats in the documentation: http://pandas.pydata.org/pandas-docs/stable/indexing.html#indexing-view-versus-copy\n"
     ]
    }
   ],
   "source": [
    "field_info = pd.read_csv(root + 'file_info_for_problem.csv')\n",
    "field_info.insert(column=\"StarID\", loc=4, value = 0)\n",
    "\n",
    "# Make the filters of the same form as for StarTable\n",
    "for field in range(1,4):\n",
    "    #Find the index of filter Ks\n",
    "    index_ks = np.where( (field_info['FieldID'] == field) & (field_info['Filter'] == 'Ks') )[0]\n",
    "    sort = np.argsort(field_info['MJD'][index_ks])\n",
    "    \n",
    "    #Change to Ks-E00..\n",
    "    tel = 1\n",
    "    for i in index_ks[sort]:\n",
    "        field_info['Filter'][i] = field_info['Filter'][i] + '_E00'+str(tel)\n",
    "        tel +=1"
   ]
  },
  {
   "cell_type": "code",
   "execution_count": 173,
   "metadata": {
    "collapsed": false
   },
   "outputs": [
    {
     "name": "stdout",
     "output_type": "stream",
     "text": [
      "Table is 30000 x 88\n"
     ]
    }
   ],
   "source": [
    "# Read in the different fits files\n",
    "fnames = glob.glob(root + '*.fits')\n",
    "\n",
    "#Find the number of unique stars\n",
    "starIDs = []\n",
    "for i, f in enumerate(fnames):\n",
    "    hdu = fits.open(f)\n",
    "    starIDs.append([dat for dat in hdu[1].data['StarID']])\n",
    "\n",
    "nstars = len(np.unique(starIDs))\n",
    "starCols = np.array(['ID', 'StarID', 'Ra', 'Dec', 'Flux1_Z', 'Flux1_Y', 'Flux1_J', 'Flux1_H', 'Flux1_Ks_E001',\n",
    "       'Flux1_Ks_E002', 'Flux1_Ks_E003', 'Flux2_Z', 'Flux2_Y', 'Flux2_J',\n",
    "       'Flux2_H', 'Flux2_Ks_E001', 'Flux2_Ks_E002', 'Flux2_Ks_E003',\n",
    "       'Flux3_Z', 'Flux3_Y', 'Flux3_J', 'Flux3_H', 'Flux3_Ks_E001',\n",
    "       'Flux3_Ks_E002', 'Flux3_Ks_E003', 'dFlux1_Z', 'dFlux1_Y',\n",
    "       'dFlux1_J', 'dFlux1_H', 'dFlux1_Ks_E001', 'dFlux1_Ks_E002',\n",
    "       'dFlux1_Ks_E003', 'dFlux2_Z', 'dFlux2_Y', 'dFlux2_J', 'dFlux2_H',\n",
    "       'dFlux2_Ks_E001', 'dFlux2_Ks_E002', 'dFlux2_Ks_E003', 'dFlux3_Z',\n",
    "       'dFlux3_Y', 'dFlux3_J', 'dFlux3_H', 'dFlux3_Ks_E001',\n",
    "       'dFlux3_Ks_E002', 'dFlux3_Ks_E003', 'Mag1_Z', 'Mag1_Y', 'Mag1_J',\n",
    "       'Mag1_H', 'Mag1_Ks_E001', 'Mag1_Ks_E002', 'Mag1_Ks_E003', 'Mag2_Z',\n",
    "       'Mag2_Y', 'Mag2_J', 'Mag2_H', 'Mag2_Ks_E001', 'Mag2_Ks_E002',\n",
    "       'Mag2_Ks_E003', 'Mag3_Z', 'Mag3_Y', 'Mag3_J', 'Mag3_H',\n",
    "       'Mag3_Ks_E001', 'Mag3_Ks_E002', 'Mag3_Ks_E003', 'dMag1_Z',\n",
    "       'dMag1_Y', 'dMag1_J', 'dMag1_H', 'dMag1_Ks_E001', 'dMag1_Ks_E002',\n",
    "       'dMag1_Ks_E003', 'dMag2_Z', 'dMag2_Y', 'dMag2_J', 'dMag2_H',\n",
    "       'dMag2_Ks_E001', 'dMag2_Ks_E002', 'dMag2_Ks_E003', 'dMag3_Z',\n",
    "       'dMag3_Y', 'dMag3_J', 'dMag3_H', 'dMag3_Ks_E001', 'dMag3_Ks_E002',\n",
    "       'dMag3_Ks_E003']) \n",
    "\n",
    "fmcols = ['Flux', 'dFlux', 'Mag', 'dMag']\n",
    "uniq_IDs = np.unique(starIDs)\n",
    "nstars = len(np.unique(starIDs))\n",
    "ncols = 5 + 83\n",
    "print \"Table is {0} x {1}\".format(nstars, ncols)\n",
    "stable = np.zeros((nstars, ncols))\n",
    "starTable = pd.DataFrame(data=stable, columns=starCols)"
   ]
  },
  {
   "cell_type": "code",
   "execution_count": null,
   "metadata": {
    "collapsed": false
   },
   "outputs": [],
   "source": []
  },
  {
   "cell_type": "markdown",
   "metadata": {},
   "source": [
    "\n",
    "# The database tables\n",
    "\n",
    "**FieldTable**\n",
    "\n",
    "ID | FieldID | Filename | Filter | Exp time | MJD | StarIDs |\n",
    "\n",
    "\n",
    "**StarTable**\n",
    "\n",
    "ID  | StarID  | Ra  | Dec  | Flux1_Z  | dFlux1_Z  | ..  | Flux3_Ks  | dFlux3_Ks  | Mag1_Z  | dMag1_Z  | ..  | Mag3_Ks  | dMag3_Ks  | Var_Ks |  \n",
    "\n"
   ]
  },
  {
   "cell_type": "code",
   "execution_count": 174,
   "metadata": {
    "collapsed": false
   },
   "outputs": [
    {
     "name": "stdout",
     "output_type": "stream",
     "text": [
      "Started with file Field-3-Ks-E002.fits\n",
      "Ks_E002\n"
     ]
    },
    {
     "name": "stderr",
     "output_type": "stream",
     "text": [
      "/software/local/lib64/python2.7/site-packages/ipykernel/__main__.py:19: SettingWithCopyWarning: \n",
      "A value is trying to be set on a copy of a slice from a DataFrame\n",
      "\n",
      "See the caveats in the documentation: http://pandas.pydata.org/pandas-docs/stable/indexing.html#indexing-view-versus-copy\n"
     ]
    },
    {
     "name": "stdout",
     "output_type": "stream",
     "text": [
      "Finished\n",
      "Started with file Field-3-Ks-E001.fits\n",
      "Ks_E001\n",
      "Finished\n",
      "Started with file Field-2-H.fits\n",
      "H\n",
      "Finished\n",
      "Started with file Field-1-Ks-E001.fits\n",
      "Ks_E001\n",
      "Finished\n",
      "Started with file Field-2-Y.fits\n",
      "Y\n",
      "Finished\n",
      "Started with file Field-3-J.fits\n",
      "J\n",
      "Finished\n",
      "Started with file Field-1-Y.fits\n",
      "Y\n",
      "Finished\n",
      "Started with file Field-1-Ks-E003.fits\n",
      "Ks_E003\n",
      "Finished\n",
      "Started with file Field-1-Ks-E002.fits\n",
      "Ks_E002\n",
      "Finished\n",
      "Started with file Field-1-H.fits\n",
      "H\n",
      "Finished\n",
      "Started with file Field-3-H.fits\n",
      "H\n",
      "Finished\n",
      "Started with file Field-3-Z.fits\n",
      "Z\n",
      "Finished\n",
      "Started with file Field-2-Z.fits\n",
      "Z\n",
      "Finished\n",
      "Started with file Field-3-Y.fits\n",
      "Y\n",
      "Finished\n",
      "Started with file Field-1-Z.fits\n",
      "Z\n",
      "Finished\n",
      "Started with file Field-2-Ks-E001.fits\n",
      "Ks_E001\n",
      "Finished\n",
      "Started with file Field-2-J.fits\n",
      "J\n",
      "Finished\n",
      "Started with file Field-1-J.fits\n",
      "J\n",
      "Finished\n"
     ]
    }
   ],
   "source": [
    "\n",
    "IDs_seen = []\n",
    "fmcols = ['Flux', 'dFlux', 'Mag', 'dMag']\n",
    "\n",
    "for f in fnames:\n",
    "    print \"Started with file {0}\".format(f.replace(root, ''))\n",
    "    \n",
    "    hdu = fits.open(f)\n",
    "    f = f.replace(root, '')\n",
    "    sID = hdu[1].data['StarID']\n",
    "    ind = [np.where(uniq_IDs == i)[0][0] for i in sID]\n",
    "    filt = f[8:-5]\n",
    "    if '-' in filt: filt = filt.replace('-','_')\n",
    "    \n",
    "    #Send star IDs to the field_info\n",
    "    fID = f[6] #field\n",
    "    name = np.sort(np.array(field_info[\"Filename\"][(field_info[\"FieldID\"] == int(fID)) & (field_info[\"Filter\"] == filt)]))\n",
    "    name = name[0]\n",
    "    field_info[\"StarID\"][np.where(field_info[\"Filename\"] == name)[0][0]] = np.array_str(sID)\n",
    "    \n",
    "    seen = [ID in IDs_seen for ID in sID]\n",
    "\n",
    "    # Is iD star already seen?\n",
    "    if not seen[0]:\n",
    "        starTable['ID'][ind] = ind\n",
    "        # Input the StarID, Ra and Dec\n",
    "        for c in starCols[1:4]:\n",
    "            starTable[c][ind] = hdu[1].data[c]\n",
    "\n",
    "        [IDs_seen.append(ID) for ID in sID]\n",
    "        \n",
    "        # Input the flux and magnitude of this data\n",
    "        for fm in fmcols:\n",
    "            for t in range(1, 4):\n",
    "                starTable[fm + str(t) +'_' + filt][ind] = hdu[1].data[fm + str(t)]\n",
    "\n",
    "    # Go through all other flux, mag and filters\n",
    "    else:\n",
    "        for fm in fmcols:\n",
    "            for t in range(1, 4):\n",
    "                starTable[fm + str(t) +'_' + filt][ind] = hdu[1].data[fm + str(t)]\n",
    "    \n",
    "\n",
    "    print \"Finished\"\n",
    "\n",
    "# write tables to csv\n",
    "starTable.to_csv(root+'starTable.csv')\n",
    "field_info.to_csv(root+'fieldTable.csv')\n",
    "\n"
   ]
  },
  {
   "cell_type": "code",
   "execution_count": 175,
   "metadata": {
    "collapsed": false
   },
   "outputs": [],
   "source": [
    "# Read the Tables\n",
    "FieldTable = pd.read_csv(root+ \"fieldTable.csv\")\n",
    "StarTable = pd.read_csv(root+ \"starTable.csv\")\n",
    "\n",
    "FieldTable.drop('Unnamed: 0', axis=1, inplace=True)\n",
    "StarTable.drop('Unnamed: 0', axis=1, inplace=True)\n"
   ]
  },
  {
   "cell_type": "code",
   "execution_count": 3,
   "metadata": {
    "collapsed": false
   },
   "outputs": [
    {
     "ename": "NameError",
     "evalue": "name 'StarTable' is not defined",
     "output_type": "error",
     "traceback": [
      "\u001b[0;31m---------------------------------------------------------------------------\u001b[0m",
      "\u001b[0;31mNameError\u001b[0m                                 Traceback (most recent call last)",
      "\u001b[0;32m<ipython-input-3-ccf1d8c46bdb>\u001b[0m in \u001b[0;36m<module>\u001b[0;34m()\u001b[0m\n\u001b[1;32m      1\u001b[0m \u001b[0;31m# Make the database\u001b[0m\u001b[0;34m\u001b[0m\u001b[0;34m\u001b[0m\u001b[0m\n\u001b[1;32m      2\u001b[0m \u001b[0mcon\u001b[0m \u001b[0;34m=\u001b[0m \u001b[0mlite\u001b[0m\u001b[0;34m.\u001b[0m\u001b[0mconnect\u001b[0m\u001b[0;34m(\u001b[0m\u001b[0mroot\u001b[0m\u001b[0;34m+\u001b[0m\u001b[0;34m\"VVV.db\"\u001b[0m\u001b[0;34m)\u001b[0m\u001b[0;34m\u001b[0m\u001b[0m\n\u001b[0;32m----> 3\u001b[0;31m \u001b[0mStarTable\u001b[0m\u001b[0;34m.\u001b[0m\u001b[0mto_sql\u001b[0m\u001b[0;34m(\u001b[0m\u001b[0;34m'StarTable'\u001b[0m\u001b[0;34m,\u001b[0m \u001b[0mcon\u001b[0m\u001b[0;34m,\u001b[0m \u001b[0mif_exists\u001b[0m \u001b[0;34m=\u001b[0m \u001b[0;34m'replace'\u001b[0m\u001b[0;34m)\u001b[0m\u001b[0;34m\u001b[0m\u001b[0m\n\u001b[0m\u001b[1;32m      4\u001b[0m \u001b[0mFieldTable\u001b[0m\u001b[0;34m.\u001b[0m\u001b[0mto_sql\u001b[0m\u001b[0;34m(\u001b[0m\u001b[0;34m'FieldTable'\u001b[0m\u001b[0;34m,\u001b[0m \u001b[0mcon\u001b[0m\u001b[0;34m,\u001b[0m \u001b[0mif_exists\u001b[0m \u001b[0;34m=\u001b[0m \u001b[0;34m'replace'\u001b[0m\u001b[0;34m)\u001b[0m\u001b[0;34m\u001b[0m\u001b[0m\n",
      "\u001b[0;31mNameError\u001b[0m: name 'StarTable' is not defined"
     ]
    }
   ],
   "source": [
    "# Make the database\n",
    "con = lite.connect(root+\"VVV.db\")\n",
    "StarTable.to_sql('StarTable', con, if_exists = 'replace')\n",
    "FieldTable.to_sql('FieldTable', con, if_exists = 'replace')"
   ]
  },
  {
   "cell_type": "markdown",
   "metadata": {},
   "source": [
    "# The Queries\n",
    "\n",
    "**R1:** Find all images observed between MJD = 56800 and MJD = 57300 and give me the number of stars detected with S/N > 5 in each image.\n",
    "\n",
    "**R2:** Find the objects that have J-H > 1.5\n",
    "\n",
    "**R3:** Find the objects where Ks differs by more than 20 times the flux uncertainty from the mean flux.\n",
    "\n",
    "**R4:** Find all catalogues that exist for a given field.\n",
    "\n",
    "**R5:** For a given field I would like to retrieve the Y,Z,J,H and Ks magnitudes for all stars with S/N > 30 in Y, Z, J, H and Ks. \n",
    "\n",
    "\n"
   ]
  },
  {
   "cell_type": "code",
   "execution_count": 4,
   "metadata": {
    "collapsed": false
   },
   "outputs": [
    {
     "name": "stdout",
     "output_type": "stream",
     "text": [
      "\n",
      "Found 9862 stars in image in file Z-ADP.2017-01-18T11:58:36.905.fits\n",
      "\n",
      "Found 9985 stars in image in file J-ADP.2017-01-18T11:58:35.781.fits\n",
      "\n",
      "Found 9990 stars in image in file H-ADP.2017-01-18T11:58:35.780.fits\n",
      "\n",
      "Found 9992 stars in image in file Ks-ADP.2016-05-25T15:33:43.377.fits\n",
      "\n",
      "Found 9967 stars in image in file Y-ADP.2017-01-18T11:58:36.901.fits\n"
     ]
    }
   ],
   "source": [
    "# R1\n",
    "\n",
    "\n",
    "con = lite.connect(root+'VVV.db')\n",
    "R1command = \"SELECT Filename, MJD, StarID, Filter FROM FieldTable WHERE MJD BETWEEN 56800 AND 57300\"\n",
    "t_images = pd.read_sql(R1command, con)\n",
    "\n",
    "for i, stars in enumerate(t_images['StarID']):\n",
    "    # Need filter to get the right fluxes\n",
    "    filt = t_images['Filter'][i]\n",
    "    \n",
    "    #Get the first and last starID\n",
    "    sIDs = stars[1:-1].split(' ')\n",
    "    sIDs = np.array([s for s in sIDs if s!= ''])\n",
    "    #print \"Found stars {0} - {1}\".format(sIDs[0], sIDs[-1])\n",
    "    \n",
    "    #Get the right flux belonging to filt and stars with stars ID between sIDs[0], sIDs[-1]\n",
    "    R1command2 = \"SELECT ID, Flux1_{0}, dFlux1_{0} FROM StarTable\\\n",
    "                WHERE ID BETWEEN {1} AND {2}\".format(str(filt), sIDs[0], sIDs[-1])\n",
    "    \n",
    "    #print R1command2\n",
    "    fluxes = pd.read_sql(R1command2, con)\n",
    "    \n",
    "    # Find the stars with S/N > 5. Define S/N as Flux/dFlux\n",
    "    result = fluxes['ID'][np.where(fluxes['Flux1_'+filt]/fluxes['dFlux1_'+filt] > 5.0)[0]]\n",
    "    if len(result > 0): print \"\\nFound {0} stars in image in file {1}\".format(len(result), t_images['Filename'][i])\n",
    "    "
   ]
  },
  {
   "cell_type": "code",
   "execution_count": 10,
   "metadata": {
    "collapsed": false
   },
   "outputs": [
    {
     "name": "stdout",
     "output_type": "stream",
     "text": [
      "Found 1228 stars with StarID's\n",
      "      StarID\n",
      "0         97\n",
      "1        189\n",
      "2        299\n",
      "3        329\n",
      "4        472\n",
      "5        545\n",
      "6        549\n",
      "7        633\n",
      "8        665\n",
      "9        714\n",
      "10       737\n",
      "11       752\n",
      "12       761\n",
      "13       782\n",
      "14       804\n",
      "15       848\n",
      "16       867\n",
      "17       875\n",
      "18       917\n",
      "19       945\n",
      "20       947\n",
      "21       970\n",
      "22       989\n",
      "23      1035\n",
      "24      1070\n",
      "25      1096\n",
      "26      1100\n",
      "27      1141\n",
      "28      1144\n",
      "29      1152\n",
      "...      ...\n",
      "1198  309328\n",
      "1199  309378\n",
      "1200  309460\n",
      "1201  309464\n",
      "1202  309471\n",
      "1203  309521\n",
      "1204  309524\n",
      "1205  309527\n",
      "1206  309544\n",
      "1207  309591\n",
      "1208  309597\n",
      "1209  309600\n",
      "1210  309604\n",
      "1211  309632\n",
      "1212  309644\n",
      "1213  309645\n",
      "1214  309735\n",
      "1215  309758\n",
      "1216  309788\n",
      "1217  309814\n",
      "1218  309860\n",
      "1219  309879\n",
      "1220  309880\n",
      "1221  309883\n",
      "1222  309902\n",
      "1223  309916\n",
      "1224  309937\n",
      "1225  309956\n",
      "1226  309971\n",
      "1227  309999\n",
      "\n",
      "[1228 rows x 1 columns]\n"
     ]
    }
   ],
   "source": [
    "# R2\n",
    "\n",
    "R2command = \"\"\"SELECT StarID from StarTable WHERE Flux1_J - Flux1_H + dFlux1_J + dFlux1_H > 1.5 AND Flux1_J - Flux1_H - dFlux1_J - dFlux1_H > 1.5\"\"\"\n",
    "stars = pd.read_sql(R2command, con)\n",
    "print \"Found {} stars with StarID's\".format(len(stars))\n",
    "print stars.astype(int)"
   ]
  },
  {
   "cell_type": "code",
   "execution_count": null,
   "metadata": {
    "collapsed": false
   },
   "outputs": [],
   "source": [
    "# R3\n",
    "\n",
    "# What is ment with mean flux uncertainty?"
   ]
  },
  {
   "cell_type": "code",
   "execution_count": null,
   "metadata": {
    "collapsed": false
   },
   "outputs": [],
   "source": []
  },
  {
   "cell_type": "code",
   "execution_count": null,
   "metadata": {
    "collapsed": true
   },
   "outputs": [],
   "source": []
  }
 ],
 "metadata": {
  "kernelspec": {
   "display_name": "Python 2",
   "language": "python",
   "name": "python2"
  },
  "language_info": {
   "codemirror_mode": {
    "name": "ipython",
    "version": 2
   },
   "file_extension": ".py",
   "mimetype": "text/x-python",
   "name": "python",
   "nbconvert_exporter": "python",
   "pygments_lexer": "ipython2",
   "version": "2.7.13"
  }
 },
 "nbformat": 4,
 "nbformat_minor": 2
}
