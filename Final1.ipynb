{
 "cells": [
  {
   "cell_type": "code",
   "execution_count": 1,
   "metadata": {
    "collapsed": true
   },
   "outputs": [],
   "source": [
    "import numpy as np\n",
    "import pandas as pd\n",
    "from astropy.io import fits\n",
    "import glob\n",
    "from collections import defaultdict"
   ]
  },
  {
   "cell_type": "code",
   "execution_count": 2,
   "metadata": {
    "collapsed": true
   },
   "outputs": [],
   "source": [
    "# Read in the field information\n",
    "\n",
    "root = \"/disks/strw9/stoop/DBDM/DDM2017-master/FinalProject/Q1/Tables/\"\n",
    "field_info = pd.read_csv(root + 'file_info_for_problem.csv')"
   ]
  },
  {
   "cell_type": "code",
   "execution_count": 4,
   "metadata": {
    "collapsed": false
   },
   "outputs": [
    {
     "name": "stdout",
     "output_type": "stream",
     "text": [
      "Table is 30000 x 88\n"
     ]
    }
   ],
   "source": [
    "# Read in the different fits files\n",
    "fnames = glob.glob(root + '*.fits')\n",
    "\n",
    "#Find the number of unique stars\n",
    "starIDs = []\n",
    "for i, f in enumerate(fnames):\n",
    "    hdu = fits.open(f)\n",
    "    starIDs.append([dat for dat in hdu[1].data['StarID']])\n",
    "\n",
    "nstars = len(np.unique(starIDs))\n",
    "starCols = np.array(['ID', 'StarID', 'Ra', 'Dec', 'Flux1_Z', 'Flux1_Y', 'Flux1_J', 'Flux1_H', 'Flux1_Ks-E001',\n",
    "       'Flux1_Ks-E002', 'Flux1_Ks-E003', 'Flux2_Z', 'Flux2_Y', 'Flux2_J',\n",
    "       'Flux2_H', 'Flux2_Ks-E001', 'Flux2_Ks-E002', 'Flux2_Ks-E003',\n",
    "       'Flux3_Z', 'Flux3_Y', 'Flux3_J', 'Flux3_H', 'Flux3_Ks-E001',\n",
    "       'Flux3_Ks-E002', 'Flux3_Ks-E003', 'dFlux1_Z', 'dFlux1_Y',\n",
    "       'dFlux1_J', 'dFlux1_H', 'dFlux1_Ks-E001', 'dFlux1_Ks-E002',\n",
    "       'dFlux1_Ks-E003', 'dFlux2_Z', 'dFlux2_Y', 'dFlux2_J', 'dFlux2_H',\n",
    "       'dFlux2_Ks-E001', 'dFlux2_Ks-E002', 'dFlux2_Ks-E003', 'dFlux3_Z',\n",
    "       'dFlux3_Y', 'dFlux3_J', 'dFlux3_H', 'dFlux3_Ks-E001',\n",
    "       'dFlux3_Ks-E002', 'dFlux3_Ks-E003', 'Mag1_Z', 'Mag1_Y', 'Mag1_J',\n",
    "       'Mag1_H', 'Mag1_Ks-E001', 'Mag1_Ks-E002', 'Mag1_Ks-E003', 'Mag2_Z',\n",
    "       'Mag2_Y', 'Mag2_J', 'Mag2_H', 'Mag2_Ks-E001', 'Mag2_Ks-E002',\n",
    "       'Mag2_Ks-E003', 'Mag3_Z', 'Mag3_Y', 'Mag3_J', 'Mag3_H',\n",
    "       'Mag3_Ks-E001', 'Mag3_Ks-E002', 'Mag3_Ks-E003', 'dMag1_Z',\n",
    "       'dMag1_Y', 'dMag1_J', 'dMag1_H', 'dMag1_Ks-E001', 'dMag1_Ks-E002',\n",
    "       'dMag1_Ks-E003', 'dMag2_Z', 'dMag2_Y', 'dMag2_J', 'dMag2_H',\n",
    "       'dMag2_Ks-E001', 'dMag2_Ks-E002', 'dMag2_Ks-E003', 'dMag3_Z',\n",
    "       'dMag3_Y', 'dMag3_J', 'dMag3_H', 'dMag3_Ks-E001', 'dMag3_Ks-E002',\n",
    "       'dMag3_Ks-E003']) \n",
    "\n",
    "fmcols = ['Flux', 'dFlux', 'Mag', 'dMag']\n",
    "uniq_IDs = np.unique(starIDs)\n",
    "nstars = len(np.unique(starIDs))\n",
    "ncols = 5 + 83\n",
    "print \"Table is {0} x {1}\".format(nstars, ncols)\n",
    "stable = np.zeros((nstars, ncols))\n",
    "starTable = pd.DataFrame(data=stable, columns=starCols)"
   ]
  },
  {
   "cell_type": "code",
   "execution_count": null,
   "metadata": {
    "collapsed": false
   },
   "outputs": [],
   "source": [
    "siD"
   ]
  },
  {
   "cell_type": "code",
   "execution_count": null,
   "metadata": {
    "collapsed": false
   },
   "outputs": [],
   "source": [
    "iDs_seen = []\n",
    "fmcols = ['Flux', 'dFlux', 'Mag', 'dMag']\n",
    "\n",
    "for f in fnames:\n",
    "    \n",
    "    hdu = fits.open(f)\n",
    "    f = f.replace('/disks/strw9/stoop/DBDM/DDM2017-master/FinalProject/Q1/Tables/', '')\n",
    "    siD = hdu[1].data['StarID']\n",
    "    ind = [np.where(uniq_IDs == i)[0][0] for i in siD]\n",
    "    filt = f[8:-5]\n",
    "    \n",
    "    \n",
    "    # Go through all stars\n",
    "    for i, iD in enumerate(siD):\n",
    "    \n",
    "        # Is iD star already seen?\n",
    "        if not iD in iDs_seen:\n",
    "            starTable['ID'][ind[i]] = ind[i]\n",
    "\n",
    "            # Input the StarID, Ra and Dec\n",
    "            for c in starCols[1:4]:\n",
    "                starTable[c][ind[i]] = hdu[1].data[c][i]\n",
    "\n",
    "            iDs_seen.append(iD)\n",
    "\n",
    "            # Input the flux and magnitude of this data\n",
    "            for fm in fmcols:\n",
    "                for t in range(1, 4):\n",
    "                    starTable[fm + str(t) +'_' + filt][ind[i]] = hdu[1].data[fm + str(t)][i]\n",
    "\n",
    "        # Go through all other flux, mag and filters\n",
    "        else:\n",
    "            for fm in fmcols:\n",
    "                for t in range(1, 4):\n",
    "                    starTable[fm + str(t) +'_' + filt][ind[i]] = hdu[1].data[fm + str(t)][i]\n"
   ]
  },
  {
   "cell_type": "code",
   "execution_count": null,
   "metadata": {
    "collapsed": false
   },
   "outputs": [],
   "source": [
    "starTable"
   ]
  },
  {
   "cell_type": "markdown",
   "metadata": {},
   "source": [
    "\n",
    "# The database tables\n",
    "\n",
    "**FieldTable**\n",
    "\n",
    "ID | FieldID | Filename | Filter | Exp time | MJD | StarIDs |\n",
    "\n",
    "\n",
    "**StarTable**\n",
    "\n",
    "ID  | StarID  | Ra  | Dec  | Flux1_Z  | dFlux1_Z  | ..  | Flux3_Ks  | dFlux3_Ks  | Mag1_Z  | dMag1_Z  | ..  | Mag3_Ks  | dMag3_Ks  | Var_Ks |  \n",
    "\n"
   ]
  },
  {
   "cell_type": "code",
   "execution_count": 119,
   "metadata": {
    "collapsed": false
   },
   "outputs": [
    {
     "ename": "KeyboardInterrupt",
     "evalue": "",
     "output_type": "error",
     "traceback": [
      "\u001b[0;31m---------------------------------------------------------------------------\u001b[0m",
      "\u001b[0;31mKeyboardInterrupt\u001b[0m                         Traceback (most recent call last)",
      "\u001b[0;32m<ipython-input-119-510890a5b4fe>\u001b[0m in \u001b[0;36m<module>\u001b[0;34m()\u001b[0m\n\u001b[1;32m     56\u001b[0m                 \u001b[0;32mfor\u001b[0m \u001b[0mfm\u001b[0m \u001b[0;32min\u001b[0m \u001b[0mfmcols\u001b[0m\u001b[0;34m:\u001b[0m\u001b[0;34m\u001b[0m\u001b[0m\n\u001b[1;32m     57\u001b[0m                     \u001b[0;32mfor\u001b[0m \u001b[0mt\u001b[0m \u001b[0;32min\u001b[0m \u001b[0mrange\u001b[0m\u001b[0;34m(\u001b[0m\u001b[0;36m1\u001b[0m\u001b[0;34m,\u001b[0m \u001b[0;36m4\u001b[0m\u001b[0;34m)\u001b[0m\u001b[0;34m:\u001b[0m\u001b[0;34m\u001b[0m\u001b[0m\n\u001b[0;32m---> 58\u001b[0;31m                         \u001b[0mstarTable\u001b[0m\u001b[0;34m[\u001b[0m\u001b[0mfm\u001b[0m \u001b[0;34m+\u001b[0m \u001b[0mstr\u001b[0m\u001b[0;34m(\u001b[0m\u001b[0mt\u001b[0m\u001b[0;34m)\u001b[0m \u001b[0;34m+\u001b[0m\u001b[0;34m'_'\u001b[0m \u001b[0;34m+\u001b[0m \u001b[0mf\u001b[0m\u001b[0;34m]\u001b[0m\u001b[0;34m[\u001b[0m\u001b[0miD\u001b[0m\u001b[0;34m]\u001b[0m \u001b[0;34m=\u001b[0m \u001b[0mnp\u001b[0m\u001b[0;34m.\u001b[0m\u001b[0marray\u001b[0m\u001b[0;34m(\u001b[0m\u001b[0md\u001b[0m\u001b[0;34m[\u001b[0m\u001b[0mfm\u001b[0m \u001b[0;34m+\u001b[0m \u001b[0mstr\u001b[0m\u001b[0;34m(\u001b[0m\u001b[0mt\u001b[0m\u001b[0;34m)\u001b[0m\u001b[0;34m]\u001b[0m\u001b[0;34m)\u001b[0m\u001b[0;34m[\u001b[0m\u001b[0mi\u001b[0m\u001b[0;34m]\u001b[0m\u001b[0;34m\u001b[0m\u001b[0m\n\u001b[0m\u001b[1;32m     59\u001b[0m \u001b[0;34m\u001b[0m\u001b[0m\n\u001b[1;32m     60\u001b[0m \u001b[0;34m\u001b[0m\u001b[0m\n",
      "\u001b[0;31mKeyboardInterrupt\u001b[0m: "
     ]
    }
   ],
   "source": [
    "starCols = np.array(['ID', 'StarID', 'Ra', 'Dec', 'Flux1_Z', 'Flux1_Y', 'Flux1_J', 'Flux1_H', 'Flux1_Ks-E001',\n",
    "       'Flux1_Ks-E002', 'Flux1_Ks-E003', 'Flux2_Z', 'Flux2_Y', 'Flux2_J',\n",
    "       'Flux2_H', 'Flux2_Ks-E001', 'Flux2_Ks-E002', 'Flux2_Ks-E003',\n",
    "       'Flux3_Z', 'Flux3_Y', 'Flux3_J', 'Flux3_H', 'Flux3_Ks-E001',\n",
    "       'Flux3_Ks-E002', 'Flux3_Ks-E003', 'dFlux1_Z', 'dFlux1_Y',\n",
    "       'dFlux1_J', 'dFlux1_H', 'dFlux1_Ks-E001', 'dFlux1_Ks-E002',\n",
    "       'dFlux1_Ks-E003', 'dFlux2_Z', 'dFlux2_Y', 'dFlux2_J', 'dFlux2_H',\n",
    "       'dFlux2_Ks-E001', 'dFlux2_Ks-E002', 'dFlux2_Ks-E003', 'dFlux3_Z',\n",
    "       'dFlux3_Y', 'dFlux3_J', 'dFlux3_H', 'dFlux3_Ks-E001',\n",
    "       'dFlux3_Ks-E002', 'dFlux3_Ks-E003', 'Mag1_Z', 'Mag1_Y', 'Mag1_J',\n",
    "       'Mag1_H', 'Mag1_Ks-E001', 'Mag1_Ks-E002', 'Mag1_Ks-E003', 'Mag2_Z',\n",
    "       'Mag2_Y', 'Mag2_J', 'Mag2_H', 'Mag2_Ks-E001', 'Mag2_Ks-E002',\n",
    "       'Mag2_Ks-E003', 'Mag3_Z', 'Mag3_Y', 'Mag3_J', 'Mag3_H',\n",
    "       'Mag3_Ks-E001', 'Mag3_Ks-E002', 'Mag3_Ks-E003', 'dMag1_Z',\n",
    "       'dMag1_Y', 'dMag1_J', 'dMag1_H', 'dMag1_Ks-E001', 'dMag1_Ks-E002',\n",
    "       'dMag1_Ks-E003', 'dMag2_Z', 'dMag2_Y', 'dMag2_J', 'dMag2_H',\n",
    "       'dMag2_Ks-E001', 'dMag2_Ks-E002', 'dMag2_Ks-E003', 'dMag3_Z',\n",
    "       'dMag3_Y', 'dMag3_J', 'dMag3_H', 'dMag3_Ks-E001', 'dMag3_Ks-E002',\n",
    "       'dMag3_Ks-E003']) \n",
    "\n",
    "fmcols = ['Flux', 'dFlux', 'Mag', 'dMag']\n",
    "\n",
    "nstars = len(np.unique(d['StarID']))\n",
    "ncols = 5 + 83\n",
    "\n",
    "stable = np.zeros((nstars, ncols))\n",
    "starTable = pd.DataFrame(data=stable, columns=starCols)\n",
    "\n",
    "# Find all unique stars based on their starID\n",
    "for iD in np.unique(d['StarID']):\n",
    "    \n",
    "    ind = np.where( np.array(d['StarID']) == iD )[0]\n",
    "    filts = np.array(d['Filter'])[ind]\n",
    "    first = False\n",
    "    \n",
    "    for i in ind:\n",
    "        \n",
    "        # Fill in the global data\n",
    "        if not first:\n",
    "            \n",
    "            starTable['ID'][iD] = iD\n",
    "            for c in starCols[1:4]:\n",
    "                starTable[c][iD] = np.array(d[c])[i]\n",
    "            first = True\n",
    "            f = filts[0]\n",
    "            \n",
    "            # Go through flux and magniudes for filter of the first data of the star\n",
    "            for fm in fmcols:\n",
    "                for t in range(1, 4):\n",
    "                    starTable[fm + str(t) +'_' + f][iD] = np.array(d[fm + str(t)])[i]\n",
    "        \n",
    "        # Go through all other flux, mag and filters\n",
    "        else:\n",
    "            filts = filts[1:]\n",
    "            for f in filts:\n",
    "                for fm in fmcols:\n",
    "                    for t in range(1, 4):\n",
    "                        starTable[fm + str(t) +'_' + f][iD] = np.array(d[fm + str(t)])[i]\n",
    "\n",
    "                \n",
    "                "
   ]
  },
  {
   "cell_type": "code",
   "execution_count": null,
   "metadata": {
    "collapsed": false
   },
   "outputs": [],
   "source": []
  },
  {
   "cell_type": "code",
   "execution_count": null,
   "metadata": {
    "collapsed": false
   },
   "outputs": [],
   "source": []
  },
  {
   "cell_type": "code",
   "execution_count": null,
   "metadata": {
    "collapsed": true
   },
   "outputs": [],
   "source": []
  }
 ],
 "metadata": {
  "kernelspec": {
   "display_name": "Python 2",
   "language": "python",
   "name": "python2"
  },
  "language_info": {
   "codemirror_mode": {
    "name": "ipython",
    "version": 2
   },
   "file_extension": ".py",
   "mimetype": "text/x-python",
   "name": "python",
   "nbconvert_exporter": "python",
   "pygments_lexer": "ipython2",
   "version": "2.7.13"
  }
 },
 "nbformat": 4,
 "nbformat_minor": 2
}
